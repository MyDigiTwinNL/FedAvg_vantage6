{
 "cells": [
  {
   "cell_type": "markdown",
   "id": "e259f2bb",
   "metadata": {},
   "source": [
    "# Sample client for the MDT research environment"
   ]
  },
  {
   "cell_type": "markdown",
   "id": "210c080f",
   "metadata": {},
   "source": [
    "### 1. Importing dependencies and setting up the vantage6 client"
   ]
  },
  {
   "cell_type": "code",
   "execution_count": 1,
   "id": "19761319",
   "metadata": {},
   "outputs": [
    {
     "name": "stdout",
     "output_type": "stream",
     "text": [
      " Welcome to\n",
      "                  _                     __  \n",
      "                 | |                   / /  \n",
      "__   ____ _ _ __ | |_ __ _  __ _  ___ / /_  \n",
      "\\ \\ / / _` | '_ \\| __/ _` |/ _` |/ _ \\ '_ \\ \n",
      " \\ V / (_| | | | | || (_| | (_| |  __/ (_) |\n",
      "  \\_/ \\__,_|_| |_|\\__\\__,_|\\__, |\\___|\\___/ \n",
      "                            __/ |           \n",
      "                           |___/            \n",
      "\n",
      " --> Join us on Discord! https://discord.gg/rwRvwyK\n",
      " --> Docs: https://docs.vantage6.ai\n",
      " --> Blog: https://vantage6.ai\n",
      "------------------------------------------------------------\n",
      "Cite us!\n",
      "If you publish your findings obtained using vantage6, \n",
      "please cite the proper sources as mentioned in:\n",
      "https://vantage6.ai/vantage6/references\n",
      "------------------------------------------------------------\n",
      "Authenticating user mdt-researcher...\n",
      "Starting new HTTPS connection (1): v6mdtserver.mydigitwin-umcu.src.surf-hosted.nl:443\n",
      "https://v6mdtserver.mydigitwin-umcu.src.surf-hosted.nl:443 \"POST /api/token/user HTTP/1.1\" 200 750\n",
      "Successfully authenticated\n",
      "Making request: GET | https://v6mdtserver.mydigitwin-umcu.src.surf-hosted.nl:443/api/user/24 | None\n",
      "Starting new HTTPS connection (1): v6mdtserver.mydigitwin-umcu.src.surf-hosted.nl:443\n",
      "https://v6mdtserver.mydigitwin-umcu.src.surf-hosted.nl:443 \"GET /api/user/24 HTTP/1.1\" 200 464\n",
      "Making request: GET | https://v6mdtserver.mydigitwin-umcu.src.surf-hosted.nl:443/api/organization/7 | None\n",
      "Starting new HTTPS connection (1): v6mdtserver.mydigitwin-umcu.src.surf-hosted.nl:443\n",
      "https://v6mdtserver.mydigitwin-umcu.src.surf-hosted.nl:443 \"GET /api/organization/7 HTTP/1.1\" 200 1463\n",
      " --> Succesfully authenticated\n",
      " --> Name:  (id=24)\n",
      " --> Organization: mdt-consortium (id=7)\n",
      "Loading private key\n",
      "Making request: GET | https://v6mdtserver.mydigitwin-umcu.src.surf-hosted.nl:443/api/organization/7 | None\n",
      "Starting new HTTPS connection (1): v6mdtserver.mydigitwin-umcu.src.surf-hosted.nl:443\n",
      "https://v6mdtserver.mydigitwin-umcu.src.surf-hosted.nl:443 \"GET /api/organization/7 HTTP/1.1\" 200 1463\n",
      "Public key matches the server key! Good to go!\n"
     ]
    }
   ],
   "source": [
    "from vantage6.client import UserClient as Client\n",
    "\n",
    "# Note: we assume here the config.py you just created is in the current directory.\n",
    "# If it is not, then you need to make sure it can be found on your PYTHONPATH\n",
    "import config\n",
    "import json\n",
    "from config_reader import read_config\n",
    "from output_encoders import decode_files\n",
    "\n",
    "\n",
    "# Initialize the client object, and run the authentication\n",
    "client = Client(config.server_url, config.server_port, config.server_api,\n",
    "                log_level='debug')\n",
    "client.authenticate(config.username, config.password)\n",
    "\n",
    "# Optional: setup the encryption, if you have an organization_key\n",
    "client.setup_encryption(config.organization_key)"
   ]
  },
  {
   "cell_type": "markdown",
   "id": "b8e5302a-68fa-4893-9c6c-607635515a20",
   "metadata": {},
   "source": [
    "### 2. Define the algorithm input columns and hyper-parameters"
   ]
  },
  {
   "cell_type": "code",
   "execution_count": 2,
   "id": "3750dc60-9cdc-4883-9e20-f55d5605d916",
   "metadata": {},
   "outputs": [],
   "source": [
    "predictor_cols = ['GENDER', 'T2D_STATUS', 'SMOKING_STATUS', 'SMOKING_QUANTITY',  \n",
    "'TOTAL_CHOLESTEROL_VALUE', 'HDL_CHOLESTEROL_VALUE', 'LDL_CHOLESTEROL_VALUE', \n",
    "'SYSTOLIC_VALUE', 'DIASTOLIC_VALUE', 'PLASMA_ALBUNIM_VALUE', 'EGFR_VALUE', \n",
    "'HEMOGLOBIN_VALUE', 'HYPERTENSION_STATUS', 'CREATININE_VALUE', 'HBA1C_VALUE', 'AGE']\n",
    "\n",
    "outcome_cols = ['LENFOL', 'FSTAT']\n",
    "\n",
    "num_update_iter = 21\n",
    "\n",
    "dl_config = read_config(\"lifelines_ci.ini\")\n",
    "\n",
    "n_fold = 10\n",
    "fold_index = 4\n",
    "output_pth = \"aggregated_weights.pth\""
   ]
  },
  {
   "cell_type": "markdown",
   "id": "4c8b7585-df63-4a20-a2b3-fa46facbcce9",
   "metadata": {},
   "source": [
    "### 3. Create and send an algorithm execution request"
   ]
  },
  {
   "cell_type": "code",
   "execution_count": 3,
   "id": "3a365ca6-7f38-4f46-b24a-8095368f2de6",
   "metadata": {},
   "outputs": [
    {
     "name": "stdout",
     "output_type": "stream",
     "text": [
      "Making request: GET | https://v6mdtserver.mydigitwin-umcu.src.surf-hosted.nl:443/api/organization/7 | None\n",
      "Starting new HTTPS connection (1): v6mdtserver.mydigitwin-umcu.src.surf-hosted.nl:443\n",
      "https://v6mdtserver.mydigitwin-umcu.src.surf-hosted.nl:443 \"GET /api/organization/7 HTTP/1.1\" 200 1463\n",
      "Making request: POST | https://v6mdtserver.mydigitwin-umcu.src.surf-hosted.nl:443/api/task | None\n",
      "Starting new HTTPS connection (1): v6mdtserver.mydigitwin-umcu.src.surf-hosted.nl:443\n",
      "https://v6mdtserver.mydigitwin-umcu.src.surf-hosted.nl:443 \"POST /api/task HTTP/1.1\" 201 761\n"
     ]
    }
   ],
   "source": [
    "model_training_task = client.task.create(\n",
    "   collaboration=2, #mdt-consortium/aggregator node@SURF\n",
    "   # Must be set to the 'aggregator' organization\n",
    "   organizations=[7], #mdt-consortium/aggregator node@SURF\n",
    "   name=\"federated_model_training_poc\",   \n",
    "\n",
    "   image=\"ghcr.io/mydigitwinnl/federated_cvdm_training_poc:82b6390525e5690a56c1ddde3dd2a2eb2d98b1c8\",\n",
    "   description='',\n",
    "   input_= {\n",
    "      \"method\":\"central_ci\",\n",
    "      \"kwargs\": {\n",
    "            \"predictor_cols\": predictor_cols,\n",
    "            \"outcome_cols\": outcome_cols,\n",
    "            \"dl_config\": dl_config,\n",
    "            \"num_update_iter\": num_update_iter,\n",
    "            \"n_fold\": n_fold,\n",
    "            \"fold_index\": fold_index,\n",
    "            \"agg_weight_filename\": output_pth\n",
    "      }\n",
    "   },\n",
    "   databases=[\n",
    "         {'label': 'lifelines_dummy'} #as configured @ lifelines\n",
    "\n",
    "   ]\n",
    ")"
   ]
  },
  {
   "cell_type": "markdown",
   "id": "ff7fd983-6ef4-436a-8246-22d9ada93042",
   "metadata": {},
   "source": [
    "### 4. Wait for the results"
   ]
  },
  {
   "cell_type": "code",
   "execution_count": 4,
   "id": "fef0fd66-189d-4f46-9fba-d948f569bc8f",
   "metadata": {},
   "outputs": [
    {
     "name": "stdout",
     "output_type": "stream",
     "text": [
      "Waiting for results...\n",
      "Making request: GET | https://v6mdtserver.mydigitwin-umcu.src.surf-hosted.nl:443/api/result | {'task_id': 337}\n",
      "Starting new HTTPS connection (1): v6mdtserver.mydigitwin-umcu.src.surf-hosted.nl:443\n",
      "https://v6mdtserver.mydigitwin-umcu.src.surf-hosted.nl:443 \"GET /api/result?task_id=337 HTTP/1.1\" 200 426130\n",
      "Results received!\n",
      "Decoding and saving output files:\n",
      "['/tmp/aggregated_weights.pth', '/tmp/global_eval_C-statistic_lifelines.png', '/tmp/global_ci_4.npy', '/tmp/local_ci_4.npy']\n",
      "Iterations: 20\n",
      "Runtime: 348.3144805431366 sec.\n",
      "Predictor cols: ['GENDER', 'T2D_STATUS', 'SMOKING_STATUS', 'SMOKING_QUANTITY', 'TOTAL_CHOLESTEROL_VALUE', 'HDL_CHOLESTEROL_VALUE', 'LDL_CHOLESTEROL_VALUE', 'SYSTOLIC_VALUE', 'DIASTOLIC_VALUE', 'PLASMA_ALBUNIM_VALUE', 'EGFR_VALUE', 'HEMOGLOBIN_VALUE', 'HYPERTENSION_STATUS', 'CREATININE_VALUE', 'HBA1C_VALUE', 'AGE']\n",
      "Outcome cols: ['LENFOL', 'FSTAT']\n",
      "Data nodes: [3, 4]\n",
      "Aggregator node: 7\n"
     ]
    }
   ],
   "source": [
    "task_id = model_training_task['id']\n",
    "print('Waiting for results...')\n",
    "\n",
    "alg_output = client.wait_for_results(task_id)\n",
    "print('Results received!')\n",
    "\n",
    "alg_result = json.loads(alg_output['data'][0]['result'])\n",
    "\n",
    "#parse the result as a json object\n",
    "alg_result_dict = json.loads(alg_result)\n",
    "\n",
    "#save the files on /tmp (update this output path as needed)\n",
    "saved_files = decode_files(alg_result_dict[\"encoded_output_files\"],'/tmp')\n",
    "\n",
    "print(\"Decoding and saving output files:\")\n",
    "print(saved_files)\n",
    "\n",
    "print(f\"Iterations: {alg_result_dict['iterations']}\")\n",
    "print(f\"Runtime: {alg_result_dict['runtime']} sec.\")\n",
    "print(f\"Predictor cols: {alg_result_dict['predictor_cols']}\")\n",
    "print(f\"Outcome cols: {alg_result_dict['outcome_cols']}\")\n",
    "print(f\"Data nodes: {alg_result_dict['data_nodes']}\")\n",
    "print(f\"Aggregator node: {alg_result_dict['aggregator']}\")"
   ]
  },
  {
   "cell_type": "code",
   "execution_count": null,
   "id": "3ebc863f-d2d1-443e-972c-d5c15cf96ca2",
   "metadata": {},
   "outputs": [],
   "source": []
  }
 ],
 "metadata": {
  "kernelspec": {
   "display_name": "Python 3 (ipykernel)",
   "language": "python",
   "name": "python3"
  },
  "language_info": {
   "codemirror_mode": {
    "name": "ipython",
    "version": 3
   },
   "file_extension": ".py",
   "mimetype": "text/x-python",
   "name": "python",
   "nbconvert_exporter": "python",
   "pygments_lexer": "ipython3",
   "version": "3.12.6"
  }
 },
 "nbformat": 4,
 "nbformat_minor": 5
}
